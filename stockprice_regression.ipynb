{
 "cells": [
  {
   "cell_type": "markdown",
   "metadata": {},
   "source": [
    "## LSTMを用いた時系列予測(回帰)\n",
    "株価予測への応用として、LSTM(Long Short Term Memory)を用いて、過去のデータから未来のデータの予測を行ってみる. 今回はJALの過去一年の株価データを用いる. \\\n",
    "ソース: https://finance.yahoo.com/quote/JAL.F/history?p=JAL.F"
   ]
  },
  {
   "cell_type": "code",
   "execution_count": 1,
   "metadata": {},
   "outputs": [],
   "source": [
    "import pandas as pd\n",
    "import numpy as np \n",
    "import matplotlib.pyplot as plt "
   ]
  },
  {
   "cell_type": "code",
   "execution_count": 2,
   "metadata": {},
   "outputs": [
    {
     "data": {
      "text/html": [
       "<div>\n",
       "<style scoped>\n",
       "    .dataframe tbody tr th:only-of-type {\n",
       "        vertical-align: middle;\n",
       "    }\n",
       "\n",
       "    .dataframe tbody tr th {\n",
       "        vertical-align: top;\n",
       "    }\n",
       "\n",
       "    .dataframe thead th {\n",
       "        text-align: right;\n",
       "    }\n",
       "</style>\n",
       "<table border=\"1\" class=\"dataframe\">\n",
       "  <thead>\n",
       "    <tr style=\"text-align: right;\">\n",
       "      <th></th>\n",
       "      <th>Date</th>\n",
       "      <th>Open</th>\n",
       "      <th>High</th>\n",
       "      <th>Low</th>\n",
       "      <th>Close</th>\n",
       "      <th>Adj Close</th>\n",
       "      <th>Volume</th>\n",
       "    </tr>\n",
       "  </thead>\n",
       "  <tbody>\n",
       "    <tr>\n",
       "      <th>0</th>\n",
       "      <td>2021-08-05</td>\n",
       "      <td>16.524000</td>\n",
       "      <td>16.524000</td>\n",
       "      <td>16.524000</td>\n",
       "      <td>16.524000</td>\n",
       "      <td>16.524000</td>\n",
       "      <td>0</td>\n",
       "    </tr>\n",
       "    <tr>\n",
       "      <th>1</th>\n",
       "      <td>2021-08-06</td>\n",
       "      <td>16.584000</td>\n",
       "      <td>16.584000</td>\n",
       "      <td>16.584000</td>\n",
       "      <td>16.584000</td>\n",
       "      <td>16.584000</td>\n",
       "      <td>0</td>\n",
       "    </tr>\n",
       "    <tr>\n",
       "      <th>2</th>\n",
       "      <td>2021-08-09</td>\n",
       "      <td>16.643999</td>\n",
       "      <td>16.643999</td>\n",
       "      <td>16.643999</td>\n",
       "      <td>16.643999</td>\n",
       "      <td>16.643999</td>\n",
       "      <td>0</td>\n",
       "    </tr>\n",
       "    <tr>\n",
       "      <th>3</th>\n",
       "      <td>2021-08-10</td>\n",
       "      <td>17.214001</td>\n",
       "      <td>17.214001</td>\n",
       "      <td>17.214001</td>\n",
       "      <td>17.214001</td>\n",
       "      <td>17.214001</td>\n",
       "      <td>0</td>\n",
       "    </tr>\n",
       "    <tr>\n",
       "      <th>4</th>\n",
       "      <td>2021-08-11</td>\n",
       "      <td>17.614000</td>\n",
       "      <td>17.614000</td>\n",
       "      <td>17.614000</td>\n",
       "      <td>17.614000</td>\n",
       "      <td>17.614000</td>\n",
       "      <td>0</td>\n",
       "    </tr>\n",
       "  </tbody>\n",
       "</table>\n",
       "</div>"
      ],
      "text/plain": [
       "         Date       Open       High        Low      Close  Adj Close  Volume\n",
       "0  2021-08-05  16.524000  16.524000  16.524000  16.524000  16.524000       0\n",
       "1  2021-08-06  16.584000  16.584000  16.584000  16.584000  16.584000       0\n",
       "2  2021-08-09  16.643999  16.643999  16.643999  16.643999  16.643999       0\n",
       "3  2021-08-10  17.214001  17.214001  17.214001  17.214001  17.214001       0\n",
       "4  2021-08-11  17.614000  17.614000  17.614000  17.614000  17.614000       0"
      ]
     },
     "execution_count": 2,
     "metadata": {},
     "output_type": "execute_result"
    }
   ],
   "source": [
    "#データのインポート\n",
    "df = pd.read_csv(\"JAL.F.csv\")\n",
    "df.head()"
   ]
  },
  {
   "cell_type": "code",
   "execution_count": 3,
   "metadata": {},
   "outputs": [
    {
     "name": "stdout",
     "output_type": "stream",
     "text": [
      "<class 'pandas.core.frame.DataFrame'>\n",
      "RangeIndex: 258 entries, 0 to 257\n",
      "Data columns (total 7 columns):\n",
      " #   Column     Non-Null Count  Dtype  \n",
      "---  ------     --------------  -----  \n",
      " 0   Date       258 non-null    object \n",
      " 1   Open       258 non-null    float64\n",
      " 2   High       258 non-null    float64\n",
      " 3   Low        258 non-null    float64\n",
      " 4   Close      258 non-null    float64\n",
      " 5   Adj Close  258 non-null    float64\n",
      " 6   Volume     258 non-null    int64  \n",
      "dtypes: float64(5), int64(1), object(1)\n",
      "memory usage: 14.2+ KB\n"
     ]
    }
   ],
   "source": [
    "#欠損地の有無を調べる\n",
    "df.info()"
   ]
  },
  {
   "cell_type": "code",
   "execution_count": 4,
   "metadata": {},
   "outputs": [
    {
     "name": "stdout",
     "output_type": "stream",
     "text": [
      "<class 'pandas.core.frame.DataFrame'>\n",
      "RangeIndex: 258 entries, 0 to 257\n",
      "Data columns (total 7 columns):\n",
      " #   Column     Non-Null Count  Dtype         \n",
      "---  ------     --------------  -----         \n",
      " 0   Date       258 non-null    datetime64[ns]\n",
      " 1   Open       258 non-null    float64       \n",
      " 2   High       258 non-null    float64       \n",
      " 3   Low        258 non-null    float64       \n",
      " 4   Close      258 non-null    float64       \n",
      " 5   Adj Close  258 non-null    float64       \n",
      " 6   Volume     258 non-null    int64         \n",
      "dtypes: datetime64[ns](1), float64(5), int64(1)\n",
      "memory usage: 14.2 KB\n"
     ]
    }
   ],
   "source": [
    "#データ型を'datetime'に変換\n",
    "df['Date']=pd.to_datetime(df['Date'])\n",
    "df.info()"
   ]
  },
  {
   "cell_type": "code",
   "execution_count": 5,
   "metadata": {},
   "outputs": [],
   "source": [
    "#日付をデータとして扱うため、日付をindexにセットする\n",
    "df.set_index(keys='Date',inplace=True)\n",
    "df\n",
    "\n",
    "#データの並び替え\n",
    "df.sort_values(by='Date',ascending=True,inplace=True)"
   ]
  },
  {
   "cell_type": "code",
   "execution_count": 6,
   "metadata": {},
   "outputs": [
    {
     "data": {
      "text/plain": [
       "<AxesSubplot:xlabel='Date'>"
      ]
     },
     "execution_count": 6,
     "metadata": {},
     "output_type": "execute_result"
    },
    {
     "data": {
      "image/png": "[encoded data removed]",
      "text/plain": [
       "<Figure size 432x288 with 1 Axes>"
      ]
     },
     "metadata": {
      "needs_background": "light"
     },
     "output_type": "display_data"
    }
   ],
   "source": [
    "df_plot = df[['Open','High','Low','Close']]\n",
    "\n",
    "%matplotlib inline \n",
    "\n",
    "df_plot.plot(kind='line')"
   ]
  },
  {
   "cell_type": "markdown",
   "metadata": {},
   "source": [
    "## 予測する値\n",
    "始値、高値、安値を特徴量として、特徴量から翌日の終値を予測する."
   ]
  },
  {
   "cell_type": "code",
   "execution_count": 12,
   "metadata": {},
   "outputs": [
    {
     "data": {
      "text/html": [
       "<div>\n",
       "<style scoped>\n",
       "    .dataframe tbody tr th:only-of-type {\n",
       "        vertical-align: middle;\n",
       "    }\n",
       "\n",
       "    .dataframe tbody tr th {\n",
       "        vertical-align: top;\n",
       "    }\n",
       "\n",
       "    .dataframe thead th {\n",
       "        text-align: right;\n",
       "    }\n",
       "</style>\n",
       "<table border=\"1\" class=\"dataframe\">\n",
       "  <thead>\n",
       "    <tr style=\"text-align: right;\">\n",
       "      <th></th>\n",
       "      <th>Open</th>\n",
       "      <th>High</th>\n",
       "      <th>Low</th>\n",
       "    </tr>\n",
       "    <tr>\n",
       "      <th>Date</th>\n",
       "      <th></th>\n",
       "      <th></th>\n",
       "      <th></th>\n",
       "    </tr>\n",
       "  </thead>\n",
       "  <tbody>\n",
       "    <tr>\n",
       "      <th>2021-08-05</th>\n",
       "      <td>16.524000</td>\n",
       "      <td>16.524000</td>\n",
       "      <td>16.524000</td>\n",
       "    </tr>\n",
       "    <tr>\n",
       "      <th>2021-08-06</th>\n",
       "      <td>16.584000</td>\n",
       "      <td>16.584000</td>\n",
       "      <td>16.584000</td>\n",
       "    </tr>\n",
       "    <tr>\n",
       "      <th>2021-08-09</th>\n",
       "      <td>16.643999</td>\n",
       "      <td>16.643999</td>\n",
       "      <td>16.643999</td>\n",
       "    </tr>\n",
       "    <tr>\n",
       "      <th>2021-08-10</th>\n",
       "      <td>17.214001</td>\n",
       "      <td>17.214001</td>\n",
       "      <td>17.214001</td>\n",
       "    </tr>\n",
       "    <tr>\n",
       "      <th>2021-08-11</th>\n",
       "      <td>17.614000</td>\n",
       "      <td>17.614000</td>\n",
       "      <td>17.614000</td>\n",
       "    </tr>\n",
       "    <tr>\n",
       "      <th>...</th>\n",
       "      <td>...</td>\n",
       "      <td>...</td>\n",
       "      <td>...</td>\n",
       "    </tr>\n",
       "    <tr>\n",
       "      <th>2022-08-01</th>\n",
       "      <td>17.264999</td>\n",
       "      <td>17.264999</td>\n",
       "      <td>17.264999</td>\n",
       "    </tr>\n",
       "    <tr>\n",
       "      <th>2022-08-02</th>\n",
       "      <td>17.280001</td>\n",
       "      <td>17.280001</td>\n",
       "      <td>17.280001</td>\n",
       "    </tr>\n",
       "    <tr>\n",
       "      <th>2022-08-03</th>\n",
       "      <td>17.340000</td>\n",
       "      <td>17.340000</td>\n",
       "      <td>17.340000</td>\n",
       "    </tr>\n",
       "    <tr>\n",
       "      <th>2022-08-04</th>\n",
       "      <td>17.075001</td>\n",
       "      <td>17.075001</td>\n",
       "      <td>17.075001</td>\n",
       "    </tr>\n",
       "    <tr>\n",
       "      <th>2022-08-05</th>\n",
       "      <td>17.100000</td>\n",
       "      <td>17.100000</td>\n",
       "      <td>17.100000</td>\n",
       "    </tr>\n",
       "  </tbody>\n",
       "</table>\n",
       "<p>258 rows × 3 columns</p>\n",
       "</div>"
      ],
      "text/plain": [
       "                 Open       High        Low\n",
       "Date                                       \n",
       "2021-08-05  16.524000  16.524000  16.524000\n",
       "2021-08-06  16.584000  16.584000  16.584000\n",
       "2021-08-09  16.643999  16.643999  16.643999\n",
       "2021-08-10  17.214001  17.214001  17.214001\n",
       "2021-08-11  17.614000  17.614000  17.614000\n",
       "...               ...        ...        ...\n",
       "2022-08-01  17.264999  17.264999  17.264999\n",
       "2022-08-02  17.280001  17.280001  17.280001\n",
       "2022-08-03  17.340000  17.340000  17.340000\n",
       "2022-08-04  17.075001  17.075001  17.075001\n",
       "2022-08-05  17.100000  17.100000  17.100000\n",
       "\n",
       "[258 rows x 3 columns]"
      ]
     },
     "execution_count": 12,
     "metadata": {},
     "output_type": "execute_result"
    }
   ],
   "source": [
    "#特徴量とターゲットを抽出\n",
    "target_y = df.iloc[:,3]\n",
    "X_feat = df.iloc[:,0:3]\n",
    "\n",
    "X_feat"
   ]
  },
  {
   "cell_type": "code",
   "execution_count": 13,
   "metadata": {},
   "outputs": [
    {
     "data": {
      "text/plain": [
       "Date\n",
       "2021-08-05    16.524000\n",
       "2021-08-06    16.584000\n",
       "2021-08-09    16.643999\n",
       "2021-08-10    17.214001\n",
       "2021-08-11    17.614000\n",
       "                ...    \n",
       "2022-08-01    17.264999\n",
       "2022-08-02    17.280001\n",
       "2022-08-03    17.340000\n",
       "2022-08-04    17.075001\n",
       "2022-08-05    17.100000\n",
       "Name: Close, Length: 258, dtype: float64"
      ]
     },
     "execution_count": 13,
     "metadata": {},
     "output_type": "execute_result"
    }
   ],
   "source": [
    "target_y"
   ]
  },
  {
   "cell_type": "code",
   "execution_count": 14,
   "metadata": {},
   "outputs": [
    {
     "data": {
      "text/html": [
       "<div>\n",
       "<style scoped>\n",
       "    .dataframe tbody tr th:only-of-type {\n",
       "        vertical-align: middle;\n",
       "    }\n",
       "\n",
       "    .dataframe tbody tr th {\n",
       "        vertical-align: top;\n",
       "    }\n",
       "\n",
       "    .dataframe thead th {\n",
       "        text-align: right;\n",
       "    }\n",
       "</style>\n",
       "<table border=\"1\" class=\"dataframe\">\n",
       "  <thead>\n",
       "    <tr style=\"text-align: right;\">\n",
       "      <th></th>\n",
       "      <th>Open</th>\n",
       "      <th>High</th>\n",
       "      <th>Low</th>\n",
       "    </tr>\n",
       "    <tr>\n",
       "      <th>Date</th>\n",
       "      <th></th>\n",
       "      <th></th>\n",
       "      <th></th>\n",
       "    </tr>\n",
       "  </thead>\n",
       "  <tbody>\n",
       "    <tr>\n",
       "      <th>2021-08-05</th>\n",
       "      <td>-0.470524</td>\n",
       "      <td>-0.507872</td>\n",
       "      <td>-0.468598</td>\n",
       "    </tr>\n",
       "    <tr>\n",
       "      <th>2021-08-06</th>\n",
       "      <td>-0.420908</td>\n",
       "      <td>-0.458431</td>\n",
       "      <td>-0.418779</td>\n",
       "    </tr>\n",
       "    <tr>\n",
       "      <th>2021-08-09</th>\n",
       "      <td>-0.371293</td>\n",
       "      <td>-0.408992</td>\n",
       "      <td>-0.368961</td>\n",
       "    </tr>\n",
       "    <tr>\n",
       "      <th>2021-08-10</th>\n",
       "      <td>0.100063</td>\n",
       "      <td>0.060697</td>\n",
       "      <td>0.104317</td>\n",
       "    </tr>\n",
       "    <tr>\n",
       "      <th>2021-08-11</th>\n",
       "      <td>0.430838</td>\n",
       "      <td>0.390300</td>\n",
       "      <td>0.436441</td>\n",
       "    </tr>\n",
       "    <tr>\n",
       "      <th>...</th>\n",
       "      <td>...</td>\n",
       "      <td>...</td>\n",
       "      <td>...</td>\n",
       "    </tr>\n",
       "    <tr>\n",
       "      <th>2022-08-01</th>\n",
       "      <td>0.142236</td>\n",
       "      <td>0.102720</td>\n",
       "      <td>0.146662</td>\n",
       "    </tr>\n",
       "    <tr>\n",
       "      <th>2022-08-02</th>\n",
       "      <td>0.154641</td>\n",
       "      <td>0.115081</td>\n",
       "      <td>0.159118</td>\n",
       "    </tr>\n",
       "    <tr>\n",
       "      <th>2022-08-03</th>\n",
       "      <td>0.204257</td>\n",
       "      <td>0.164521</td>\n",
       "      <td>0.208936</td>\n",
       "    </tr>\n",
       "    <tr>\n",
       "      <th>2022-08-04</th>\n",
       "      <td>-0.014881</td>\n",
       "      <td>-0.053841</td>\n",
       "      <td>-0.011096</td>\n",
       "    </tr>\n",
       "    <tr>\n",
       "      <th>2022-08-05</th>\n",
       "      <td>0.005792</td>\n",
       "      <td>-0.033242</td>\n",
       "      <td>0.009661</td>\n",
       "    </tr>\n",
       "  </tbody>\n",
       "</table>\n",
       "<p>258 rows × 3 columns</p>\n",
       "</div>"
      ],
      "text/plain": [
       "                Open      High       Low\n",
       "Date                                    \n",
       "2021-08-05 -0.470524 -0.507872 -0.468598\n",
       "2021-08-06 -0.420908 -0.458431 -0.418779\n",
       "2021-08-09 -0.371293 -0.408992 -0.368961\n",
       "2021-08-10  0.100063  0.060697  0.104317\n",
       "2021-08-11  0.430838  0.390300  0.436441\n",
       "...              ...       ...       ...\n",
       "2022-08-01  0.142236  0.102720  0.146662\n",
       "2022-08-02  0.154641  0.115081  0.159118\n",
       "2022-08-03  0.204257  0.164521  0.208936\n",
       "2022-08-04 -0.014881 -0.053841 -0.011096\n",
       "2022-08-05  0.005792 -0.033242  0.009661\n",
       "\n",
       "[258 rows x 3 columns]"
      ]
     },
     "execution_count": 14,
     "metadata": {},
     "output_type": "execute_result"
    }
   ],
   "source": [
    "from sklearn.preprocessing import MinMaxScaler, StandardScaler\n",
    "from sklearn.metrics import mean_squared_error\n",
    "from sklearn.metrics import mean_absolute_percentage_error \n",
    "from sklearn.model_selection import train_test_split\n",
    "from sklearn.model_selection import TimeSeriesSplit\n",
    "\n",
    "#前処理として標準化をする\n",
    "sc = StandardScaler()\n",
    "X_ft = sc.fit_transform(X_feat)\n",
    "X_ft = pd.DataFrame(columns=X_feat.columns,\n",
    "                    data=X_ft,\n",
    "                    index=X_feat.index)\n",
    "\n",
    "X_ft"
   ]
  },
  {
   "cell_type": "code",
   "execution_count": 15,
   "metadata": {},
   "outputs": [
    {
     "data": {
      "text/html": [
       "<div>\n",
       "<style scoped>\n",
       "    .dataframe tbody tr th:only-of-type {\n",
       "        vertical-align: middle;\n",
       "    }\n",
       "\n",
       "    .dataframe tbody tr th {\n",
       "        vertical-align: top;\n",
       "    }\n",
       "\n",
       "    .dataframe thead th {\n",
       "        text-align: right;\n",
       "    }\n",
       "</style>\n",
       "<table border=\"1\" class=\"dataframe\">\n",
       "  <thead>\n",
       "    <tr style=\"text-align: right;\">\n",
       "      <th></th>\n",
       "      <th>Close</th>\n",
       "    </tr>\n",
       "    <tr>\n",
       "      <th>Date</th>\n",
       "      <th></th>\n",
       "    </tr>\n",
       "  </thead>\n",
       "  <tbody>\n",
       "    <tr>\n",
       "      <th>2021-08-05</th>\n",
       "      <td>-0.505374</td>\n",
       "    </tr>\n",
       "    <tr>\n",
       "      <th>2021-08-06</th>\n",
       "      <td>-0.455852</td>\n",
       "    </tr>\n",
       "    <tr>\n",
       "      <th>2021-08-09</th>\n",
       "      <td>-0.406330</td>\n",
       "    </tr>\n",
       "    <tr>\n",
       "      <th>2021-08-10</th>\n",
       "      <td>0.064137</td>\n",
       "    </tr>\n",
       "    <tr>\n",
       "      <th>2021-08-11</th>\n",
       "      <td>0.394287</td>\n",
       "    </tr>\n",
       "    <tr>\n",
       "      <th>...</th>\n",
       "      <td>...</td>\n",
       "    </tr>\n",
       "    <tr>\n",
       "      <th>2022-08-01</th>\n",
       "      <td>0.106230</td>\n",
       "    </tr>\n",
       "    <tr>\n",
       "      <th>2022-08-02</th>\n",
       "      <td>0.118612</td>\n",
       "    </tr>\n",
       "    <tr>\n",
       "      <th>2022-08-03</th>\n",
       "      <td>0.168134</td>\n",
       "    </tr>\n",
       "    <tr>\n",
       "      <th>2022-08-04</th>\n",
       "      <td>-0.050590</td>\n",
       "    </tr>\n",
       "    <tr>\n",
       "      <th>2022-08-05</th>\n",
       "      <td>-0.029957</td>\n",
       "    </tr>\n",
       "  </tbody>\n",
       "</table>\n",
       "<p>258 rows × 1 columns</p>\n",
       "</div>"
      ],
      "text/plain": [
       "               Close\n",
       "Date                \n",
       "2021-08-05 -0.505374\n",
       "2021-08-06 -0.455852\n",
       "2021-08-09 -0.406330\n",
       "2021-08-10  0.064137\n",
       "2021-08-11  0.394287\n",
       "...              ...\n",
       "2022-08-01  0.106230\n",
       "2022-08-02  0.118612\n",
       "2022-08-03  0.168134\n",
       "2022-08-04 -0.050590\n",
       "2022-08-05 -0.029957\n",
       "\n",
       "[258 rows x 1 columns]"
      ]
     },
     "execution_count": 15,
     "metadata": {},
     "output_type": "execute_result"
    }
   ],
   "source": [
    "target_y = target_y.to_numpy()\n",
    "target_y = target_y.reshape(-1,1)\n",
    "target_y = sc.fit_transform(target_y)\n",
    "target_y = pd.DataFrame(columns=['Close'],data=target_y,index=X_feat.index)\n",
    "\n",
    "target_y\n"
   ]
  },
  {
   "cell_type": "code",
   "execution_count": 16,
   "metadata": {},
   "outputs": [],
   "source": [
    "#Xとyをn個の時系列ブロックに変換\n",
    "def lstm_split(X_feat,y_target,n_steps):\n",
    "    X,y = [],[]\n",
    "    for i in range(len(X_feat)-n_steps+1):\n",
    "        X.append(X_feat[i:i+n_steps])\n",
    "        y.append(y_target[i+n_steps-1])\n",
    "    \n",
    "    return np.array(X),np.array(y)"
   ]
  },
  {
   "cell_type": "code",
   "execution_count": 17,
   "metadata": {},
   "outputs": [],
   "source": [
    "#今回は現在から4日前までのデータから現在の終値を予測する\n",
    "n_steps = 4\n",
    "X1,y1 = lstm_split(X_feat.values,target_y.values,n_steps=n_steps)\n",
    "\n",
    "split_idx = int(np.ceil(len(X1)*0.8))\n",
    "date_index = X_feat.index\n",
    "date_index = date_index[:len(date_index)-n_steps+1]\n",
    "\n",
    "X_train,X_test = X1[:split_idx], X1[split_idx:]\n",
    "y_train,y_test = y1[:split_idx], y1[split_idx:]\n",
    "train_date,test_date = date_index[:split_idx],date_index[split_idx:]"
   ]
  },
  {
   "cell_type": "code",
   "execution_count": 18,
   "metadata": {},
   "outputs": [
    {
     "name": "stdout",
     "output_type": "stream",
     "text": [
      "(204, 4, 3)\n",
      "(204, 1)\n",
      "(51, 4, 3)\n",
      "(51, 1)\n"
     ]
    }
   ],
   "source": [
    "print(X_train.shape)\n",
    "print(y_train.shape)\n",
    "print(X_test.shape)\n",
    "print(y_test.shape)"
   ]
  },
  {
   "cell_type": "code",
   "execution_count": 19,
   "metadata": {},
   "outputs": [
    {
     "data": {
      "text/plain": [
       "(255,)"
      ]
     },
     "execution_count": 19,
     "metadata": {},
     "output_type": "execute_result"
    }
   ],
   "source": [
    "date_index.shape"
   ]
  },
  {
   "cell_type": "markdown",
   "metadata": {},
   "source": [
    "## LSTMモデル\n",
    "まずは単純なLSTMモデルから試す"
   ]
  },
  {
   "cell_type": "code",
   "execution_count": 20,
   "metadata": {},
   "outputs": [
    {
     "name": "stdout",
     "output_type": "stream",
     "text": [
      "2.8.0\n"
     ]
    }
   ],
   "source": [
    "import tensorflow as tf\n",
    "from tensorflow.keras import layers, models\n",
    "\n",
    "print(tf.__version__)"
   ]
  },
  {
   "cell_type": "code",
   "execution_count": 21,
   "metadata": {},
   "outputs": [
    {
     "name": "stdout",
     "output_type": "stream",
     "text": [
      "Model: \"lstm__model\"\n",
      "_________________________________________________________________\n",
      " Layer (type)                Output Shape              Param #   \n",
      "=================================================================\n",
      " lstm (LSTM)                 multiple                  4608      \n",
      "                                                                 \n",
      " dense (Dense)               multiple                  33        \n",
      "                                                                 \n",
      "=================================================================\n",
      "Total params: 4,641\n",
      "Trainable params: 4,641\n",
      "Non-trainable params: 0\n",
      "_________________________________________________________________\n"
     ]
    }
   ],
   "source": [
    "class LSTM_Model(tf.keras.Model):\n",
    "    def __init__(self):\n",
    "        super(LSTM_Model,self).__init__()\n",
    "        self.lstm1 = layers.LSTM(32,activation='relu',return_sequences=True)\n",
    "        self.fc1 = layers.Dense(1)\n",
    "    \n",
    "    def call(self,X):\n",
    "        X = self.lstm1(X)\n",
    "        X = self.fc1(X)\n",
    "\n",
    "        return X\n",
    "\n",
    "model = LSTM_Model()\n",
    "model.compile(loss='mean_squared_error',optimizer='adam')\n",
    "model.build((None,4,3))\n",
    "model.summary()"
   ]
  },
  {
   "cell_type": "code",
   "execution_count": 30,
   "metadata": {},
   "outputs": [
    {
     "name": "stdout",
     "output_type": "stream",
     "text": [
      "Epoch 1/50\n",
      "51/51 - 0s - loss: 0.4874 - 163ms/epoch - 3ms/step\n",
      "Epoch 2/50\n",
      "51/51 - 0s - loss: 0.4712 - 129ms/epoch - 3ms/step\n",
      "Epoch 3/50\n",
      "51/51 - 0s - loss: 0.4850 - 135ms/epoch - 3ms/step\n",
      "Epoch 4/50\n",
      "51/51 - 0s - loss: 0.4702 - 142ms/epoch - 3ms/step\n",
      "Epoch 5/50\n",
      "51/51 - 0s - loss: 0.4826 - 138ms/epoch - 3ms/step\n",
      "Epoch 6/50\n",
      "51/51 - 0s - loss: 0.4694 - 130ms/epoch - 3ms/step\n",
      "Epoch 7/50\n",
      "51/51 - 0s - loss: 0.4802 - 143ms/epoch - 3ms/step\n",
      "Epoch 8/50\n",
      "51/51 - 0s - loss: 0.4685 - 146ms/epoch - 3ms/step\n",
      "Epoch 9/50\n",
      "51/51 - 0s - loss: 0.4779 - 162ms/epoch - 3ms/step\n",
      "Epoch 10/50\n",
      "51/51 - 0s - loss: 0.4678 - 148ms/epoch - 3ms/step\n",
      "Epoch 11/50\n",
      "51/51 - 0s - loss: 0.4755 - 165ms/epoch - 3ms/step\n",
      "Epoch 12/50\n",
      "51/51 - 0s - loss: 0.4670 - 159ms/epoch - 3ms/step\n",
      "Epoch 13/50\n",
      "51/51 - 0s - loss: 0.4729 - 154ms/epoch - 3ms/step\n",
      "Epoch 14/50\n",
      "51/51 - 0s - loss: 0.4660 - 157ms/epoch - 3ms/step\n",
      "Epoch 15/50\n",
      "51/51 - 0s - loss: 0.4702 - 185ms/epoch - 4ms/step\n",
      "Epoch 16/50\n",
      "51/51 - 0s - loss: 0.4648 - 201ms/epoch - 4ms/step\n",
      "Epoch 17/50\n",
      "51/51 - 0s - loss: 0.4673 - 187ms/epoch - 4ms/step\n",
      "Epoch 18/50\n",
      "51/51 - 0s - loss: 0.4633 - 186ms/epoch - 4ms/step\n",
      "Epoch 19/50\n",
      "51/51 - 0s - loss: 0.4642 - 185ms/epoch - 4ms/step\n",
      "Epoch 20/50\n",
      "51/51 - 0s - loss: 0.4613 - 179ms/epoch - 4ms/step\n",
      "Epoch 21/50\n",
      "51/51 - 0s - loss: 0.4610 - 182ms/epoch - 4ms/step\n",
      "Epoch 22/50\n",
      "51/51 - 0s - loss: 0.4589 - 185ms/epoch - 4ms/step\n",
      "Epoch 23/50\n",
      "51/51 - 0s - loss: 0.4578 - 181ms/epoch - 4ms/step\n",
      "Epoch 24/50\n",
      "51/51 - 0s - loss: 0.4561 - 198ms/epoch - 4ms/step\n",
      "Epoch 25/50\n",
      "51/51 - 0s - loss: 0.4547 - 199ms/epoch - 4ms/step\n",
      "Epoch 26/50\n",
      "51/51 - 0s - loss: 0.4531 - 146ms/epoch - 3ms/step\n",
      "Epoch 27/50\n",
      "51/51 - 0s - loss: 0.4516 - 124ms/epoch - 2ms/step\n",
      "Epoch 28/50\n",
      "51/51 - 0s - loss: 0.4500 - 154ms/epoch - 3ms/step\n",
      "Epoch 29/50\n",
      "51/51 - 0s - loss: 0.4485 - 157ms/epoch - 3ms/step\n",
      "Epoch 30/50\n",
      "51/51 - 0s - loss: 0.4470 - 161ms/epoch - 3ms/step\n",
      "Epoch 31/50\n",
      "51/51 - 0s - loss: 0.4455 - 175ms/epoch - 3ms/step\n",
      "Epoch 32/50\n",
      "51/51 - 0s - loss: 0.4440 - 176ms/epoch - 3ms/step\n",
      "Epoch 33/50\n",
      "51/51 - 0s - loss: 0.4425 - 189ms/epoch - 4ms/step\n",
      "Epoch 34/50\n",
      "51/51 - 0s - loss: 0.4410 - 176ms/epoch - 3ms/step\n",
      "Epoch 35/50\n",
      "51/51 - 0s - loss: 0.4395 - 115ms/epoch - 2ms/step\n",
      "Epoch 36/50\n",
      "51/51 - 0s - loss: 0.4381 - 161ms/epoch - 3ms/step\n",
      "Epoch 37/50\n",
      "51/51 - 0s - loss: 0.4366 - 184ms/epoch - 4ms/step\n",
      "Epoch 38/50\n",
      "51/51 - 0s - loss: 0.4351 - 182ms/epoch - 4ms/step\n",
      "Epoch 39/50\n",
      "51/51 - 0s - loss: 0.4337 - 182ms/epoch - 4ms/step\n",
      "Epoch 40/50\n",
      "51/51 - 0s - loss: 0.4322 - 186ms/epoch - 4ms/step\n",
      "Epoch 41/50\n",
      "51/51 - 0s - loss: 0.4308 - 177ms/epoch - 3ms/step\n",
      "Epoch 42/50\n",
      "51/51 - 0s - loss: 0.4293 - 174ms/epoch - 3ms/step\n",
      "Epoch 43/50\n",
      "51/51 - 0s - loss: 0.4278 - 180ms/epoch - 4ms/step\n",
      "Epoch 44/50\n",
      "51/51 - 0s - loss: 0.4263 - 180ms/epoch - 4ms/step\n",
      "Epoch 45/50\n",
      "51/51 - 0s - loss: 0.4248 - 179ms/epoch - 4ms/step\n",
      "Epoch 46/50\n",
      "51/51 - 0s - loss: 0.4233 - 181ms/epoch - 4ms/step\n",
      "Epoch 47/50\n",
      "51/51 - 0s - loss: 0.4218 - 182ms/epoch - 4ms/step\n",
      "Epoch 48/50\n",
      "51/51 - 0s - loss: 0.4202 - 173ms/epoch - 3ms/step\n",
      "Epoch 49/50\n",
      "51/51 - 0s - loss: 0.4186 - 187ms/epoch - 4ms/step\n",
      "Epoch 50/50\n",
      "51/51 - 0s - loss: 0.4170 - 180ms/epoch - 4ms/step\n"
     ]
    }
   ],
   "source": [
    "history = model.fit(X_train,y_train,epochs=50,batch_size=4,verbose=2,shuffle=False)"
   ]
  },
  {
   "cell_type": "code",
   "execution_count": 31,
   "metadata": {},
   "outputs": [
    {
     "data": {
      "image/png": "[encoded data removed]",
      "text/plain": [
       "<Figure size 720x432 with 1 Axes>"
      ]
     },
     "metadata": {
      "needs_background": "light"
     },
     "output_type": "display_data"
    }
   ],
   "source": [
    "#epoch-lossの描画\n",
    "plt.figure(figsize=(10,6))\n",
    "plt.plot(history.history['loss'])\n",
    "plt.xlabel(\"Epoch\")\n",
    "plt.ylabel(\"Loss\")\n",
    "plt.show()"
   ]
  },
  {
   "cell_type": "code",
   "execution_count": 32,
   "metadata": {},
   "outputs": [],
   "source": [
    "#予測\n",
    "y_pred = model.predict(X_test)\n",
    "y_pred = y_pred[:,3,:]"
   ]
  },
  {
   "cell_type": "code",
   "execution_count": 39,
   "metadata": {},
   "outputs": [
    {
     "data": {
      "image/png": "[encoded data removed]",
      "text/plain": [
       "<Figure size 720x504 with 1 Axes>"
      ]
     },
     "metadata": {
      "needs_background": "light"
     },
     "output_type": "display_data"
    }
   ],
   "source": [
    "#y_testとy_predをプロットする\n",
    "\n",
    "fig = plt.figure(figsize=(10,7))\n",
    "plt.plot(test_date,y_test,label=\"True value\")\n",
    "plt.plot(test_date,y_pred,label=\"LSTM_value\")\n",
    "plt.xlabel(\"time scale\",color=\"white\")\n",
    "plt.ylabel(\"Scalled USD\",color=\"white\")\n",
    "plt.title(\"Prediction by LSTM\",color=\"white\")\n",
    "plt.legend(loc='best')\n",
    "plt.show()\n",
    "fig.savefig(\"result.png\")"
   ]
  },
  {
   "cell_type": "code",
   "execution_count": 27,
   "metadata": {},
   "outputs": [
    {
     "name": "stdout",
     "output_type": "stream",
     "text": [
      "RSME:  0.6184121281908309\n",
      "MAPE:  2.47092105785729\n"
     ]
    }
   ],
   "source": [
    "rmse = mean_squared_error(y_test,y_pred,squared=False)\n",
    "mape = mean_absolute_percentage_error(y_test,y_pred)\n",
    "print(\"RSME: \", rmse)\n",
    "print(\"MAPE: \",mape)"
   ]
  },
  {
   "cell_type": "code",
   "execution_count": null,
   "metadata": {},
   "outputs": [],
   "source": []
  }
 ],
 "metadata": {
  "kernelspec": {
   "display_name": "Python 3.9.2 64-bit",
   "language": "python",
   "name": "python3"
  },
  "language_info": {
   "codemirror_mode": {
    "name": "ipython",
    "version": 3
   },
   "file_extension": ".py",
   "mimetype": "text/x-python",
   "name": "python",
   "nbconvert_exporter": "python",
   "pygments_lexer": "ipython3",
   "version": "3.9.2"
  },
  "orig_nbformat": 4,
  "vscode": {
   "interpreter": {
    "hash": "27b2cc7857122b87438370346f42980d2029bc32e999b2ef9b2285e517b9eddc"
   }
  }
 },
 "nbformat": 4,
 "nbformat_minor": 2
}
